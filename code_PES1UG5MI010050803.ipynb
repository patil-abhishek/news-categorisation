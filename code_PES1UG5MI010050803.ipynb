{
  "cells": [
    {
      "cell_type": "code",
      "execution_count": null,
      "metadata": {
        "colab": {
          "base_uri": "https://localhost:8080/"
        },
        "id": "q87HRKBgI3u9",
        "outputId": "6379ce5e-7202-44de-bc93-d707e40491c8"
      },
      "outputs": [
        {
          "name": "stdout",
          "output_type": "stream",
          "text": [
            "Warning: Your Kaggle API key is readable by other users on this system! To fix this, you can run 'chmod 600 /content/kaggle.json'\n",
            "Downloading india-headlines-news-dataset.zip to /content\n",
            " 97% 84.0M/86.6M [00:04<00:00, 24.3MB/s]\n",
            "100% 86.6M/86.6M [00:04<00:00, 18.6MB/s]\n"
          ]
        }
      ],
      "source": [
        "import os\n",
        "os.environ['KAGGLE_CONFIG_DIR'] = \"/content\"\n",
        "!kaggle datasets download -d therohk/india-headlines-news-dataset "
      ]
    },
    {
      "cell_type": "code",
      "execution_count": null,
      "metadata": {
        "colab": {
          "base_uri": "https://localhost:8080/"
        },
        "id": "LX0P5PkwJK_o",
        "outputId": "389e0da6-aded-4774-da26-550bb8b2d7ca"
      },
      "outputs": [
        {
          "name": "stdout",
          "output_type": "stream",
          "text": [
            "Archive:  india-headlines-news-dataset.zip\n",
            "  inflating: india-news-headlines.csv  \n"
          ]
        }
      ],
      "source": [
        "!unzip india-headlines-news-dataset.zip"
      ]
    },
    {
      "cell_type": "code",
      "execution_count": null,
      "metadata": {
        "id": "i1UYW1AyJm1r"
      },
      "outputs": [],
      "source": [
        "import tensorflow as tf \n",
        "from tensorflow.keras import layers\n",
        "from tensorflow.keras.models import Sequential\n",
        "from tensorflow.keras.preprocessing.text import Tokenizer\n",
        "from tensorflow.keras.preprocessing.sequence import pad_sequences\n",
        "from sklearn.model_selection import train_test_split\n",
        "import numpy as np\n",
        "import pandas as pd"
      ]
    },
    {
      "cell_type": "code",
      "execution_count": null,
      "metadata": {
        "id": "wz1zAsEkJvkK"
      },
      "outputs": [],
      "source": [
        "df = pd.read_csv('india-news-headlines.csv')"
      ]
    },
    {
      "cell_type": "code",
      "execution_count": null,
      "metadata": {
        "colab": {
          "base_uri": "https://localhost:8080/",
          "height": 363
        },
        "id": "V-KbvesUeThW",
        "outputId": "3f7f27aa-26c5-4316-8d64-aadd94340d97"
      },
      "outputs": [
        {
          "data": {
            "text/html": [
              "\n",
              "  <div id=\"df-8e84bcc9-eeec-4b9a-b027-44e83e8572ac\">\n",
              "    <div class=\"colab-df-container\">\n",
              "      <div>\n",
              "<style scoped>\n",
              "    .dataframe tbody tr th:only-of-type {\n",
              "        vertical-align: middle;\n",
              "    }\n",
              "\n",
              "    .dataframe tbody tr th {\n",
              "        vertical-align: top;\n",
              "    }\n",
              "\n",
              "    .dataframe thead th {\n",
              "        text-align: right;\n",
              "    }\n",
              "</style>\n",
              "<table border=\"1\" class=\"dataframe\">\n",
              "  <thead>\n",
              "    <tr style=\"text-align: right;\">\n",
              "      <th></th>\n",
              "      <th>publish_date</th>\n",
              "      <th>headline_category</th>\n",
              "      <th>headline_text</th>\n",
              "    </tr>\n",
              "  </thead>\n",
              "  <tbody>\n",
              "    <tr>\n",
              "      <th>942953</th>\n",
              "      <td>20100711</td>\n",
              "      <td>city.ludhiana</td>\n",
              "      <td>Railways to post guards at 130 level crossings</td>\n",
              "    </tr>\n",
              "    <tr>\n",
              "      <th>3085527</th>\n",
              "      <td>20190222</td>\n",
              "      <td>city.jaipur</td>\n",
              "      <td>Jaipur gardens to bear plaques with martyrs' n...</td>\n",
              "    </tr>\n",
              "    <tr>\n",
              "      <th>1782414</th>\n",
              "      <td>20131228</td>\n",
              "      <td>city.kozhikode</td>\n",
              "      <td>Anti-filariasis campaign comes a cropper in Ko...</td>\n",
              "    </tr>\n",
              "    <tr>\n",
              "      <th>3204158</th>\n",
              "      <td>20191018</td>\n",
              "      <td>city.ahmedabad</td>\n",
              "      <td>Gujarat: Con call centre busted in Gandhinagar</td>\n",
              "    </tr>\n",
              "    <tr>\n",
              "      <th>3547640</th>\n",
              "      <td>20210905</td>\n",
              "      <td>city.mumbai</td>\n",
              "      <td>Mumbai: Protest against Javed Akhtar's Taliban...</td>\n",
              "    </tr>\n",
              "    <tr>\n",
              "      <th>193694</th>\n",
              "      <td>20030317</td>\n",
              "      <td>edit-page</td>\n",
              "      <td>Sledger Shahid</td>\n",
              "    </tr>\n",
              "    <tr>\n",
              "      <th>1026413</th>\n",
              "      <td>20101217</td>\n",
              "      <td>city.jaipur</td>\n",
              "      <td>Tiger death: Suspect may undergo brain mapping...</td>\n",
              "    </tr>\n",
              "    <tr>\n",
              "      <th>1679653</th>\n",
              "      <td>20130802</td>\n",
              "      <td>india</td>\n",
              "      <td>Chargesheet will fail legal scrutiny: Zee</td>\n",
              "    </tr>\n",
              "    <tr>\n",
              "      <th>482770</th>\n",
              "      <td>20070616</td>\n",
              "      <td>edit-page</td>\n",
              "      <td>COUNTER VIEW: No need for F1 racing</td>\n",
              "    </tr>\n",
              "    <tr>\n",
              "      <th>101393</th>\n",
              "      <td>20020428</td>\n",
              "      <td>city.pune</td>\n",
              "      <td>Industrialist Agashe felicitated</td>\n",
              "    </tr>\n",
              "  </tbody>\n",
              "</table>\n",
              "</div>\n",
              "      <button class=\"colab-df-convert\" onclick=\"convertToInteractive('df-8e84bcc9-eeec-4b9a-b027-44e83e8572ac')\"\n",
              "              title=\"Convert this dataframe to an interactive table.\"\n",
              "              style=\"display:none;\">\n",
              "        \n",
              "  <svg xmlns=\"http://www.w3.org/2000/svg\" height=\"24px\"viewBox=\"0 0 24 24\"\n",
              "       width=\"24px\">\n",
              "    <path d=\"M0 0h24v24H0V0z\" fill=\"none\"/>\n",
              "    <path d=\"M18.56 5.44l.94 2.06.94-2.06 2.06-.94-2.06-.94-.94-2.06-.94 2.06-2.06.94zm-11 1L8.5 8.5l.94-2.06 2.06-.94-2.06-.94L8.5 2.5l-.94 2.06-2.06.94zm10 10l.94 2.06.94-2.06 2.06-.94-2.06-.94-.94-2.06-.94 2.06-2.06.94z\"/><path d=\"M17.41 7.96l-1.37-1.37c-.4-.4-.92-.59-1.43-.59-.52 0-1.04.2-1.43.59L10.3 9.45l-7.72 7.72c-.78.78-.78 2.05 0 2.83L4 21.41c.39.39.9.59 1.41.59.51 0 1.02-.2 1.41-.59l7.78-7.78 2.81-2.81c.8-.78.8-2.07 0-2.86zM5.41 20L4 18.59l7.72-7.72 1.47 1.35L5.41 20z\"/>\n",
              "  </svg>\n",
              "      </button>\n",
              "      \n",
              "  <style>\n",
              "    .colab-df-container {\n",
              "      display:flex;\n",
              "      flex-wrap:wrap;\n",
              "      gap: 12px;\n",
              "    }\n",
              "\n",
              "    .colab-df-convert {\n",
              "      background-color: #E8F0FE;\n",
              "      border: none;\n",
              "      border-radius: 50%;\n",
              "      cursor: pointer;\n",
              "      display: none;\n",
              "      fill: #1967D2;\n",
              "      height: 32px;\n",
              "      padding: 0 0 0 0;\n",
              "      width: 32px;\n",
              "    }\n",
              "\n",
              "    .colab-df-convert:hover {\n",
              "      background-color: #E2EBFA;\n",
              "      box-shadow: 0px 1px 2px rgba(60, 64, 67, 0.3), 0px 1px 3px 1px rgba(60, 64, 67, 0.15);\n",
              "      fill: #174EA6;\n",
              "    }\n",
              "\n",
              "    [theme=dark] .colab-df-convert {\n",
              "      background-color: #3B4455;\n",
              "      fill: #D2E3FC;\n",
              "    }\n",
              "\n",
              "    [theme=dark] .colab-df-convert:hover {\n",
              "      background-color: #434B5C;\n",
              "      box-shadow: 0px 1px 3px 1px rgba(0, 0, 0, 0.15);\n",
              "      filter: drop-shadow(0px 1px 2px rgba(0, 0, 0, 0.3));\n",
              "      fill: #FFFFFF;\n",
              "    }\n",
              "  </style>\n",
              "\n",
              "      <script>\n",
              "        const buttonEl =\n",
              "          document.querySelector('#df-8e84bcc9-eeec-4b9a-b027-44e83e8572ac button.colab-df-convert');\n",
              "        buttonEl.style.display =\n",
              "          google.colab.kernel.accessAllowed ? 'block' : 'none';\n",
              "\n",
              "        async function convertToInteractive(key) {\n",
              "          const element = document.querySelector('#df-8e84bcc9-eeec-4b9a-b027-44e83e8572ac');\n",
              "          const dataTable =\n",
              "            await google.colab.kernel.invokeFunction('convertToInteractive',\n",
              "                                                     [key], {});\n",
              "          if (!dataTable) return;\n",
              "\n",
              "          const docLinkHtml = 'Like what you see? Visit the ' +\n",
              "            '<a target=\"_blank\" href=https://colab.research.google.com/notebooks/data_table.ipynb>data table notebook</a>'\n",
              "            + ' to learn more about interactive tables.';\n",
              "          element.innerHTML = '';\n",
              "          dataTable['output_type'] = 'display_data';\n",
              "          await google.colab.output.renderOutput(dataTable, element);\n",
              "          const docLink = document.createElement('div');\n",
              "          docLink.innerHTML = docLinkHtml;\n",
              "          element.appendChild(docLink);\n",
              "        }\n",
              "      </script>\n",
              "    </div>\n",
              "  </div>\n",
              "  "
            ],
            "text/plain": [
              "         publish_date headline_category  \\\n",
              "942953       20100711     city.ludhiana   \n",
              "3085527      20190222       city.jaipur   \n",
              "1782414      20131228    city.kozhikode   \n",
              "3204158      20191018    city.ahmedabad   \n",
              "3547640      20210905       city.mumbai   \n",
              "193694       20030317         edit-page   \n",
              "1026413      20101217       city.jaipur   \n",
              "1679653      20130802             india   \n",
              "482770       20070616         edit-page   \n",
              "101393       20020428         city.pune   \n",
              "\n",
              "                                             headline_text  \n",
              "942953      Railways to post guards at 130 level crossings  \n",
              "3085527  Jaipur gardens to bear plaques with martyrs' n...  \n",
              "1782414  Anti-filariasis campaign comes a cropper in Ko...  \n",
              "3204158     Gujarat: Con call centre busted in Gandhinagar  \n",
              "3547640  Mumbai: Protest against Javed Akhtar's Taliban...  \n",
              "193694                                      Sledger Shahid  \n",
              "1026413  Tiger death: Suspect may undergo brain mapping...  \n",
              "1679653          Chargesheet will fail legal scrutiny: Zee  \n",
              "482770                 COUNTER VIEW: No need for F1 racing  \n",
              "101393                    Industrialist Agashe felicitated  "
            ]
          },
          "execution_count": 5,
          "metadata": {},
          "output_type": "execute_result"
        }
      ],
      "source": [
        "df.sample(n=10)"
      ]
    },
    {
      "cell_type": "code",
      "execution_count": null,
      "metadata": {
        "colab": {
          "base_uri": "https://localhost:8080/",
          "height": 380
        },
        "id": "HXWHiVLzJ0_0",
        "outputId": "b4bfe8e5-309b-464d-ca4e-d24ad0cb60e8"
      },
      "outputs": [
        {
          "name": "stdout",
          "output_type": "stream",
          "text": [
            "3650970\n"
          ]
        },
        {
          "data": {
            "text/html": [
              "\n",
              "  <div id=\"df-ed95e8e0-bde1-4939-aac5-e07762104944\">\n",
              "    <div class=\"colab-df-container\">\n",
              "      <div>\n",
              "<style scoped>\n",
              "    .dataframe tbody tr th:only-of-type {\n",
              "        vertical-align: middle;\n",
              "    }\n",
              "\n",
              "    .dataframe tbody tr th {\n",
              "        vertical-align: top;\n",
              "    }\n",
              "\n",
              "    .dataframe thead th {\n",
              "        text-align: right;\n",
              "    }\n",
              "</style>\n",
              "<table border=\"1\" class=\"dataframe\">\n",
              "  <thead>\n",
              "    <tr style=\"text-align: right;\">\n",
              "      <th></th>\n",
              "      <th>headline_category</th>\n",
              "      <th>headline_text</th>\n",
              "    </tr>\n",
              "  </thead>\n",
              "  <tbody>\n",
              "    <tr>\n",
              "      <th>610327</th>\n",
              "      <td>entertainment.english.hollywood</td>\n",
              "      <td>Sienna; Getty eyeing 11m love nest</td>\n",
              "    </tr>\n",
              "    <tr>\n",
              "      <th>778455</th>\n",
              "      <td>business.india-business</td>\n",
              "      <td>Sensex; Nifty gain one per cent each in bullis...</td>\n",
              "    </tr>\n",
              "    <tr>\n",
              "      <th>1840094</th>\n",
              "      <td>city.bhubaneswar</td>\n",
              "      <td>Sabyasachis wife joins SoumyasAamaOdishaParty</td>\n",
              "    </tr>\n",
              "    <tr>\n",
              "      <th>3057835</th>\n",
              "      <td>tv.news.malayalam</td>\n",
              "      <td>Pearle Maaney wishes Bigg Boss Hindi finalist ...</td>\n",
              "    </tr>\n",
              "    <tr>\n",
              "      <th>93638</th>\n",
              "      <td>unknown</td>\n",
              "      <td>City Sports</td>\n",
              "    </tr>\n",
              "    <tr>\n",
              "      <th>2981770</th>\n",
              "      <td>india</td>\n",
              "      <td>Case going on for 41 years over 'missing' cour...</td>\n",
              "    </tr>\n",
              "    <tr>\n",
              "      <th>1377275</th>\n",
              "      <td>entertainment.hindi.top-10</td>\n",
              "      <td>Top 10 Shah Rukh Khan Controversies</td>\n",
              "    </tr>\n",
              "    <tr>\n",
              "      <th>1634937</th>\n",
              "      <td>city.mumbai</td>\n",
              "      <td>Prayers for long life together in vain for new...</td>\n",
              "    </tr>\n",
              "    <tr>\n",
              "      <th>2466059</th>\n",
              "      <td>city.ludhiana</td>\n",
              "      <td>Waterlogged track turns breeding ground for mo...</td>\n",
              "    </tr>\n",
              "    <tr>\n",
              "      <th>2529502</th>\n",
              "      <td>entertainment.hindi.bollywood</td>\n",
              "      <td>'Pink' to be screened at the UN headquarters i...</td>\n",
              "    </tr>\n",
              "  </tbody>\n",
              "</table>\n",
              "</div>\n",
              "      <button class=\"colab-df-convert\" onclick=\"convertToInteractive('df-ed95e8e0-bde1-4939-aac5-e07762104944')\"\n",
              "              title=\"Convert this dataframe to an interactive table.\"\n",
              "              style=\"display:none;\">\n",
              "        \n",
              "  <svg xmlns=\"http://www.w3.org/2000/svg\" height=\"24px\"viewBox=\"0 0 24 24\"\n",
              "       width=\"24px\">\n",
              "    <path d=\"M0 0h24v24H0V0z\" fill=\"none\"/>\n",
              "    <path d=\"M18.56 5.44l.94 2.06.94-2.06 2.06-.94-2.06-.94-.94-2.06-.94 2.06-2.06.94zm-11 1L8.5 8.5l.94-2.06 2.06-.94-2.06-.94L8.5 2.5l-.94 2.06-2.06.94zm10 10l.94 2.06.94-2.06 2.06-.94-2.06-.94-.94-2.06-.94 2.06-2.06.94z\"/><path d=\"M17.41 7.96l-1.37-1.37c-.4-.4-.92-.59-1.43-.59-.52 0-1.04.2-1.43.59L10.3 9.45l-7.72 7.72c-.78.78-.78 2.05 0 2.83L4 21.41c.39.39.9.59 1.41.59.51 0 1.02-.2 1.41-.59l7.78-7.78 2.81-2.81c.8-.78.8-2.07 0-2.86zM5.41 20L4 18.59l7.72-7.72 1.47 1.35L5.41 20z\"/>\n",
              "  </svg>\n",
              "      </button>\n",
              "      \n",
              "  <style>\n",
              "    .colab-df-container {\n",
              "      display:flex;\n",
              "      flex-wrap:wrap;\n",
              "      gap: 12px;\n",
              "    }\n",
              "\n",
              "    .colab-df-convert {\n",
              "      background-color: #E8F0FE;\n",
              "      border: none;\n",
              "      border-radius: 50%;\n",
              "      cursor: pointer;\n",
              "      display: none;\n",
              "      fill: #1967D2;\n",
              "      height: 32px;\n",
              "      padding: 0 0 0 0;\n",
              "      width: 32px;\n",
              "    }\n",
              "\n",
              "    .colab-df-convert:hover {\n",
              "      background-color: #E2EBFA;\n",
              "      box-shadow: 0px 1px 2px rgba(60, 64, 67, 0.3), 0px 1px 3px 1px rgba(60, 64, 67, 0.15);\n",
              "      fill: #174EA6;\n",
              "    }\n",
              "\n",
              "    [theme=dark] .colab-df-convert {\n",
              "      background-color: #3B4455;\n",
              "      fill: #D2E3FC;\n",
              "    }\n",
              "\n",
              "    [theme=dark] .colab-df-convert:hover {\n",
              "      background-color: #434B5C;\n",
              "      box-shadow: 0px 1px 3px 1px rgba(0, 0, 0, 0.15);\n",
              "      filter: drop-shadow(0px 1px 2px rgba(0, 0, 0, 0.3));\n",
              "      fill: #FFFFFF;\n",
              "    }\n",
              "  </style>\n",
              "\n",
              "      <script>\n",
              "        const buttonEl =\n",
              "          document.querySelector('#df-ed95e8e0-bde1-4939-aac5-e07762104944 button.colab-df-convert');\n",
              "        buttonEl.style.display =\n",
              "          google.colab.kernel.accessAllowed ? 'block' : 'none';\n",
              "\n",
              "        async function convertToInteractive(key) {\n",
              "          const element = document.querySelector('#df-ed95e8e0-bde1-4939-aac5-e07762104944');\n",
              "          const dataTable =\n",
              "            await google.colab.kernel.invokeFunction('convertToInteractive',\n",
              "                                                     [key], {});\n",
              "          if (!dataTable) return;\n",
              "\n",
              "          const docLinkHtml = 'Like what you see? Visit the ' +\n",
              "            '<a target=\"_blank\" href=https://colab.research.google.com/notebooks/data_table.ipynb>data table notebook</a>'\n",
              "            + ' to learn more about interactive tables.';\n",
              "          element.innerHTML = '';\n",
              "          dataTable['output_type'] = 'display_data';\n",
              "          await google.colab.output.renderOutput(dataTable, element);\n",
              "          const docLink = document.createElement('div');\n",
              "          docLink.innerHTML = docLinkHtml;\n",
              "          element.appendChild(docLink);\n",
              "        }\n",
              "      </script>\n",
              "    </div>\n",
              "  </div>\n",
              "  "
            ],
            "text/plain": [
              "                       headline_category  \\\n",
              "610327   entertainment.english.hollywood   \n",
              "778455           business.india-business   \n",
              "1840094                 city.bhubaneswar   \n",
              "3057835                tv.news.malayalam   \n",
              "93638                            unknown   \n",
              "2981770                            india   \n",
              "1377275       entertainment.hindi.top-10   \n",
              "1634937                      city.mumbai   \n",
              "2466059                    city.ludhiana   \n",
              "2529502    entertainment.hindi.bollywood   \n",
              "\n",
              "                                             headline_text  \n",
              "610327                  Sienna; Getty eyeing 11m love nest  \n",
              "778455   Sensex; Nifty gain one per cent each in bullis...  \n",
              "1840094      Sabyasachis wife joins SoumyasAamaOdishaParty  \n",
              "3057835  Pearle Maaney wishes Bigg Boss Hindi finalist ...  \n",
              "93638                                          City Sports  \n",
              "2981770  Case going on for 41 years over 'missing' cour...  \n",
              "1377275                Top 10 Shah Rukh Khan Controversies  \n",
              "1634937  Prayers for long life together in vain for new...  \n",
              "2466059  Waterlogged track turns breeding ground for mo...  \n",
              "2529502  'Pink' to be screened at the UN headquarters i...  "
            ]
          },
          "execution_count": 6,
          "metadata": {},
          "output_type": "execute_result"
        }
      ],
      "source": [
        "df.drop(['publish_date'], axis=1, inplace=True)\n",
        "print(len(df))\n",
        "df.sample(n=10)"
      ]
    },
    {
      "cell_type": "code",
      "execution_count": null,
      "metadata": {
        "id": "oa6ByI4tjzp1"
      },
      "outputs": [],
      "source": [
        "include = [\"entertainment\", \"tech\", \"science\", \"sports\", \"politics\", \"elections\"]\n",
        "tempdf = df[df.headline_category.str.contains('|'.join(include))]\n",
        "poll = [\"elections\", \"politics\"]\n",
        "sci = [\"science\", \"tech\"]\n",
        "tempdf.loc[tempdf.headline_category.str.contains(\"entertainment\"), \"headline_category\"] = \"entertainment\"\n",
        "tempdf.loc[tempdf.headline_category.str.contains('|'.join(sci)), \"headline_category\"] = \"scienceandtech\"\n",
        "tempdf.loc[tempdf.headline_category.str.contains(\"sports\"), \"headline_category\"] = \"sports\"\n",
        "tempdf.loc[tempdf.headline_category.str.contains('|'.join(poll)), \"headline_category\"] = \"politics\"\n",
        "tempdf.drop_duplicates(subset = \"headline_text\", inplace = True)"
      ]
    },
    {
      "cell_type": "code",
      "execution_count": null,
      "metadata": {
        "colab": {
          "base_uri": "https://localhost:8080/",
          "height": 363
        },
        "id": "80QYMqAEWew_",
        "outputId": "0839eba1-f0cc-4954-8674-24cafe927668"
      },
      "outputs": [
        {
          "data": {
            "text/html": [
              "\n",
              "  <div id=\"df-facfb2f7-1b90-447b-9bf4-589d1fb5c179\">\n",
              "    <div class=\"colab-df-container\">\n",
              "      <div>\n",
              "<style scoped>\n",
              "    .dataframe tbody tr th:only-of-type {\n",
              "        vertical-align: middle;\n",
              "    }\n",
              "\n",
              "    .dataframe tbody tr th {\n",
              "        vertical-align: top;\n",
              "    }\n",
              "\n",
              "    .dataframe thead th {\n",
              "        text-align: right;\n",
              "    }\n",
              "</style>\n",
              "<table border=\"1\" class=\"dataframe\">\n",
              "  <thead>\n",
              "    <tr style=\"text-align: right;\">\n",
              "      <th></th>\n",
              "      <th>headline_category</th>\n",
              "      <th>headline_text</th>\n",
              "    </tr>\n",
              "  </thead>\n",
              "  <tbody>\n",
              "    <tr>\n",
              "      <th>1159293</th>\n",
              "      <td>scienceandtech</td>\n",
              "      <td>Tech Mahindra bags contract from Microsoft</td>\n",
              "    </tr>\n",
              "    <tr>\n",
              "      <th>1462882</th>\n",
              "      <td>sports</td>\n",
              "      <td>Mithali; Jhulan in top 3 of ICC women's rankings</td>\n",
              "    </tr>\n",
              "    <tr>\n",
              "      <th>2100917</th>\n",
              "      <td>sports</td>\n",
              "      <td>Nishikori off to flying start; Tsonga wins on ...</td>\n",
              "    </tr>\n",
              "    <tr>\n",
              "      <th>1514935</th>\n",
              "      <td>entertainment</td>\n",
              "      <td>Vidya; Katrina; Kareena are watching you</td>\n",
              "    </tr>\n",
              "    <tr>\n",
              "      <th>1909617</th>\n",
              "      <td>entertainment</td>\n",
              "      <td>Keira Knightley: Karaoke is my idea of hell</td>\n",
              "    </tr>\n",
              "    <tr>\n",
              "      <th>486558</th>\n",
              "      <td>scienceandtech</td>\n",
              "      <td>Why stress can lead to obesity</td>\n",
              "    </tr>\n",
              "    <tr>\n",
              "      <th>98754</th>\n",
              "      <td>entertainment</td>\n",
              "      <td>No 'Gem' for Kajol</td>\n",
              "    </tr>\n",
              "    <tr>\n",
              "      <th>700278</th>\n",
              "      <td>entertainment</td>\n",
              "      <td>Tanushree's obsessed with sci-fi</td>\n",
              "    </tr>\n",
              "    <tr>\n",
              "      <th>2969489</th>\n",
              "      <td>entertainment</td>\n",
              "      <td>Pics: Check out Adnan Sami's son Azaan's amazi...</td>\n",
              "    </tr>\n",
              "    <tr>\n",
              "      <th>3029108</th>\n",
              "      <td>sports</td>\n",
              "      <td>Alexander Zverev's ATP Finals win over Roger F...</td>\n",
              "    </tr>\n",
              "  </tbody>\n",
              "</table>\n",
              "</div>\n",
              "      <button class=\"colab-df-convert\" onclick=\"convertToInteractive('df-facfb2f7-1b90-447b-9bf4-589d1fb5c179')\"\n",
              "              title=\"Convert this dataframe to an interactive table.\"\n",
              "              style=\"display:none;\">\n",
              "        \n",
              "  <svg xmlns=\"http://www.w3.org/2000/svg\" height=\"24px\"viewBox=\"0 0 24 24\"\n",
              "       width=\"24px\">\n",
              "    <path d=\"M0 0h24v24H0V0z\" fill=\"none\"/>\n",
              "    <path d=\"M18.56 5.44l.94 2.06.94-2.06 2.06-.94-2.06-.94-.94-2.06-.94 2.06-2.06.94zm-11 1L8.5 8.5l.94-2.06 2.06-.94-2.06-.94L8.5 2.5l-.94 2.06-2.06.94zm10 10l.94 2.06.94-2.06 2.06-.94-2.06-.94-.94-2.06-.94 2.06-2.06.94z\"/><path d=\"M17.41 7.96l-1.37-1.37c-.4-.4-.92-.59-1.43-.59-.52 0-1.04.2-1.43.59L10.3 9.45l-7.72 7.72c-.78.78-.78 2.05 0 2.83L4 21.41c.39.39.9.59 1.41.59.51 0 1.02-.2 1.41-.59l7.78-7.78 2.81-2.81c.8-.78.8-2.07 0-2.86zM5.41 20L4 18.59l7.72-7.72 1.47 1.35L5.41 20z\"/>\n",
              "  </svg>\n",
              "      </button>\n",
              "      \n",
              "  <style>\n",
              "    .colab-df-container {\n",
              "      display:flex;\n",
              "      flex-wrap:wrap;\n",
              "      gap: 12px;\n",
              "    }\n",
              "\n",
              "    .colab-df-convert {\n",
              "      background-color: #E8F0FE;\n",
              "      border: none;\n",
              "      border-radius: 50%;\n",
              "      cursor: pointer;\n",
              "      display: none;\n",
              "      fill: #1967D2;\n",
              "      height: 32px;\n",
              "      padding: 0 0 0 0;\n",
              "      width: 32px;\n",
              "    }\n",
              "\n",
              "    .colab-df-convert:hover {\n",
              "      background-color: #E2EBFA;\n",
              "      box-shadow: 0px 1px 2px rgba(60, 64, 67, 0.3), 0px 1px 3px 1px rgba(60, 64, 67, 0.15);\n",
              "      fill: #174EA6;\n",
              "    }\n",
              "\n",
              "    [theme=dark] .colab-df-convert {\n",
              "      background-color: #3B4455;\n",
              "      fill: #D2E3FC;\n",
              "    }\n",
              "\n",
              "    [theme=dark] .colab-df-convert:hover {\n",
              "      background-color: #434B5C;\n",
              "      box-shadow: 0px 1px 3px 1px rgba(0, 0, 0, 0.15);\n",
              "      filter: drop-shadow(0px 1px 2px rgba(0, 0, 0, 0.3));\n",
              "      fill: #FFFFFF;\n",
              "    }\n",
              "  </style>\n",
              "\n",
              "      <script>\n",
              "        const buttonEl =\n",
              "          document.querySelector('#df-facfb2f7-1b90-447b-9bf4-589d1fb5c179 button.colab-df-convert');\n",
              "        buttonEl.style.display =\n",
              "          google.colab.kernel.accessAllowed ? 'block' : 'none';\n",
              "\n",
              "        async function convertToInteractive(key) {\n",
              "          const element = document.querySelector('#df-facfb2f7-1b90-447b-9bf4-589d1fb5c179');\n",
              "          const dataTable =\n",
              "            await google.colab.kernel.invokeFunction('convertToInteractive',\n",
              "                                                     [key], {});\n",
              "          if (!dataTable) return;\n",
              "\n",
              "          const docLinkHtml = 'Like what you see? Visit the ' +\n",
              "            '<a target=\"_blank\" href=https://colab.research.google.com/notebooks/data_table.ipynb>data table notebook</a>'\n",
              "            + ' to learn more about interactive tables.';\n",
              "          element.innerHTML = '';\n",
              "          dataTable['output_type'] = 'display_data';\n",
              "          await google.colab.output.renderOutput(dataTable, element);\n",
              "          const docLink = document.createElement('div');\n",
              "          docLink.innerHTML = docLinkHtml;\n",
              "          element.appendChild(docLink);\n",
              "        }\n",
              "      </script>\n",
              "    </div>\n",
              "  </div>\n",
              "  "
            ],
            "text/plain": [
              "        headline_category                                      headline_text\n",
              "1159293    scienceandtech         Tech Mahindra bags contract from Microsoft\n",
              "1462882            sports   Mithali; Jhulan in top 3 of ICC women's rankings\n",
              "2100917            sports  Nishikori off to flying start; Tsonga wins on ...\n",
              "1514935     entertainment           Vidya; Katrina; Kareena are watching you\n",
              "1909617     entertainment        Keira Knightley: Karaoke is my idea of hell\n",
              "486558     scienceandtech                     Why stress can lead to obesity\n",
              "98754       entertainment                                 No 'Gem' for Kajol\n",
              "700278      entertainment                   Tanushree's obsessed with sci-fi\n",
              "2969489     entertainment  Pics: Check out Adnan Sami's son Azaan's amazi...\n",
              "3029108            sports  Alexander Zverev's ATP Finals win over Roger F..."
            ]
          },
          "execution_count": 8,
          "metadata": {},
          "output_type": "execute_result"
        }
      ],
      "source": [
        "tempdf.sample(n=10)"
      ]
    },
    {
      "cell_type": "code",
      "execution_count": null,
      "metadata": {
        "colab": {
          "base_uri": "https://localhost:8080/"
        },
        "id": "90lWHZJVoa7o",
        "outputId": "d2892afd-c5d0-40b0-e946-95d25dc8b179"
      },
      "outputs": [
        {
          "name": "stdout",
          "output_type": "stream",
          "text": [
            "416272\n",
            "headline_category\n",
            "entertainment     225845\n",
            "politics           17270\n",
            "scienceandtech     47385\n",
            "sports            125772\n",
            "dtype: int64\n"
          ]
        }
      ],
      "source": [
        "print(len(tempdf))\n",
        "print(tempdf.groupby(['headline_category']).size())"
      ]
    },
    {
      "cell_type": "code",
      "execution_count": null,
      "metadata": {
        "id": "PxGj8N7jtBeB"
      },
      "outputs": [],
      "source": [
        "training_data1,testing_data1 =  train_test_split(tempdf,test_size=0.1)"
      ]
    },
    {
      "cell_type": "code",
      "execution_count": null,
      "metadata": {
        "colab": {
          "base_uri": "https://localhost:8080/",
          "height": 281
        },
        "id": "BKMz1zQFZrkp",
        "outputId": "cd501c8f-f4ab-4f00-f02a-235a23cbac8b"
      },
      "outputs": [
        {
          "data": {
            "image/png": "[encoded data removed]",
            "text/plain": [
              "<Figure size 432x288 with 1 Axes>"
            ]
          },
          "metadata": {},
          "output_type": "display_data"
        }
      ],
      "source": [
        "import matplotlib.pyplot as plt\n",
        "# plotting distribution of each news_category in training& testing data\n",
        "plt.plot(training_data1['headline_category'].value_counts())\n",
        "plt.plot(testing_data1['headline_category'].value_counts())\n",
        "plt.title('Train-Test Split 90/10 Visualization')\n",
        "plt.show()"
      ]
    },
    {
      "cell_type": "code",
      "execution_count": null,
      "metadata": {
        "id": "fZcJilP0grIZ"
      },
      "outputs": [],
      "source": [
        "def tokenization_(training_headings, testing_headings, max_length=20, vocab_size = 35000):\n",
        "    tokenizer = Tokenizer(num_words = vocab_size, oov_token= '<oov>')\n",
        "    #Tokenization and padding\n",
        " \n",
        "    tokenizer.fit_on_texts(training_headings)\n",
        "    word_index = tokenizer.word_index\n",
        "    training_sequences = tokenizer.texts_to_sequences(training_headings)\n",
        "    training_padded = pad_sequences(training_sequences,padding= 'post',maxlen = max_length, truncating='post')\n",
        " \n",
        " \n",
        "    testing_sequences = tokenizer.texts_to_sequences(testing_headings)\n",
        "    testing_padded = pad_sequences(testing_sequences,padding= 'post',maxlen = max_length, truncating='post')\n",
        " \n",
        "    return tokenizer,training_padded,testing_padded"
      ]
    },
    {
      "cell_type": "code",
      "execution_count": null,
      "metadata": {
        "id": "07l3G072tksc"
      },
      "outputs": [],
      "source": [
        "tokenizer,X_train,X_test = tokenization_(training_data1['headline_text'],\n",
        "                                         testing_data1['headline_text'])\n",
        " \n",
        "labels = {'entertainment':[1,0,0,0], 'politics':[0,1,0,0],\n",
        "          'scienceandtech':[0,0,1,0], 'sports':[0,0,0,1]}\n",
        "Y_train = np.array([labels[y] for y in training_data1['headline_category']])\n",
        "Y_test = np.array([labels[y]  for y in testing_data1['headline_category']])"
      ]
    },
    {
      "cell_type": "code",
      "execution_count": null,
      "metadata": {
        "id": "5ddq9ooBurIp"
      },
      "outputs": [],
      "source": [
        "def build_model( n, vocab_size, embedding_size):\n",
        "    model = tf.keras.models.Sequential()\n",
        "    model.add(tf.keras.layers.Embedding(vocab_size,\n",
        "              embedding_size,input_length=n))\n",
        "    model.add(tf.keras.layers.GlobalAveragePooling1D()) \n",
        "    model.add(tf.keras.layers.Dense(4,activation = 'softmax'))       \n",
        "    model.compile(loss='categorical_crossentropy',optimizer='adam',\n",
        "                   metrics='accuracy')\n",
        "    print(model.summary())\n",
        "    return model"
      ]
    },
    {
      "cell_type": "code",
      "execution_count": null,
      "metadata": {
        "colab": {
          "background_save": true,
          "base_uri": "https://localhost:8080/"
        },
        "id": "E4ql68UJvknB",
        "outputId": "2fdd7443-8aa6-4c75-f1e6-db508c044f02"
      },
      "outputs": [
        {
          "name": "stdout",
          "output_type": "stream",
          "text": [
            "Model: \"sequential\"\n",
            "_________________________________________________________________\n",
            " Layer (type)                Output Shape              Param #   \n",
            "=================================================================\n",
            " embedding (Embedding)       (None, 20, 20)            700000    \n",
            "                                                                 \n",
            " global_average_pooling1d (G  (None, 20)               0         \n",
            " lobalAveragePooling1D)                                          \n",
            "                                                                 \n",
            " dense (Dense)               (None, 4)                 84        \n",
            "                                                                 \n",
            "=================================================================\n",
            "Total params: 700,084\n",
            "Trainable params: 700,084\n",
            "Non-trainable params: 0\n",
            "_________________________________________________________________\n",
            "None\n",
            "Epoch 1/8\n",
            "11708/11708 [==============================] - 103s 9ms/step - loss: 0.3368 - accuracy: 0.8843 - val_loss: 0.1597 - val_accuracy: 0.9491\n",
            "Epoch 2/8\n",
            "11708/11708 [==============================] - 97s 8ms/step - loss: 0.1285 - accuracy: 0.9586 - val_loss: 0.1367 - val_accuracy: 0.9555\n",
            "Epoch 3/8\n",
            "11708/11708 [==============================] - 96s 8ms/step - loss: 0.1054 - accuracy: 0.9661 - val_loss: 0.1323 - val_accuracy: 0.9573\n",
            "Epoch 4/8\n",
            "11708/11708 [==============================] - 97s 8ms/step - loss: 0.0941 - accuracy: 0.9695 - val_loss: 0.1339 - val_accuracy: 0.9577\n",
            "Epoch 5/8\n",
            "11708/11708 [==============================] - 100s 9ms/step - loss: 0.0868 - accuracy: 0.9719 - val_loss: 0.1333 - val_accuracy: 0.9579\n",
            "Epoch 6/8\n",
            "11708/11708 [==============================] - 94s 8ms/step - loss: 0.0818 - accuracy: 0.9738 - val_loss: 0.1372 - val_accuracy: 0.9570\n",
            "Epoch 7/8\n",
            "11708/11708 [==============================] - 99s 8ms/step - loss: 0.0780 - accuracy: 0.9749 - val_loss: 0.1371 - val_accuracy: 0.9579\n",
            "Epoch 8/8\n",
            "11708/11708 [==============================] - 98s 8ms/step - loss: 0.0750 - accuracy: 0.9760 - val_loss: 0.1399 - val_accuracy: 0.9571\n"
          ]
        }
      ],
      "source": [
        "epochs = 8\n",
        "model = build_model(20,35000,20)\n",
        "history = model.fit(X_train,Y_train,\n",
        "                    validation_data = (X_test,Y_test),\n",
        "                    epochs = epochs)"
      ]
    },
    {
      "cell_type": "code",
      "execution_count": null,
      "metadata": {
        "colab": {
          "base_uri": "https://localhost:8080/"
        },
        "id": "xyBB7YGqEyeP",
        "outputId": "062378ec-bf3d-4b0f-a782-816e862bd19d"
      },
      "outputs": [
        {
          "name": "stdout",
          "output_type": "stream",
          "text": [
            "Training Accuracy: 0.9792\n",
            "Testing Accuracy:  0.9594\n"
          ]
        }
      ],
      "source": [
        "loss, accuracy = model.evaluate(X_train,Y_train, verbose=False)\n",
        "print(\"Training Accuracy: {:.4f}\".format(accuracy))\n",
        "loss, accuracy = model.evaluate(X_test,Y_test, verbose=False)\n",
        "print(\"Testing Accuracy:  {:.4f}\".format(accuracy))"
      ]
    },
    {
      "cell_type": "code",
      "execution_count": 17,
      "metadata": {
        "colab": {
          "base_uri": "https://localhost:8080/"
        },
        "id": "KChB3KB6YgyN",
        "outputId": "39915e49-e815-4b21-ceeb-9d2ce591cef0"
      },
      "outputs": [
        {
          "output_type": "stream",
          "name": "stderr",
          "text": [
            "[nltk_data] Downloading package stopwords to /root/nltk_data...\n",
            "[nltk_data]   Unzipping corpora/stopwords.zip.\n",
            "[nltk_data] Downloading package wordnet to /root/nltk_data...\n",
            "[nltk_data] Downloading package omw-1.4 to /root/nltk_data...\n"
          ]
        }
      ],
      "source": [
        "import re \n",
        "import nltk \n",
        "import string \n",
        "nltk.download('stopwords')\n",
        "nltk.download('wordnet')\n",
        "nltk.download('omw-1.4')\n",
        "from nltk.corpus import stopwords \n",
        "from nltk.stem.wordnet import WordNetLemmatizer\n",
        "wordnet_lemma = WordNetLemmatizer()  \n",
        "Stopwords = set(stopwords.words('english')) \n",
        "\n",
        "def clean_sentence(sentence):\n",
        " \n",
        "    sentence = sentence.replace('-',' - ')\n",
        "    sentence = sentence.replace('.',' . ')\n",
        "    sentence = sentence.replace('/',' / ')\n",
        "    sentence = sentence.replace(',', ' , ')\n",
        "\n",
        "    Words=sentence.split()\n",
        "    sentence = ''\n",
        "    for word in Words:\n",
        "        word = word.replace(\"'s\",' is')\n",
        "        word = word.replace(\"'nt\",' not')\n",
        "        word = word.replace(\"n't\",' not')\n",
        "        word = word.replace(\"'d\", ' had')\n",
        "        word = word.replace(\"'ll\",' will')\n",
        "        word = word.replace(\"'m\",' am')\n",
        "        word = word.replace(\"'ve\",' have')\n",
        "        word = word.replace(\"'re\", ' are')\n",
        "        sentence = sentence + word + ' '\n",
        "    sentence = re.sub(\"^\\s+\",\" \",sentence)  \n",
        "    sentence = ''.join([i for i in sentence if i not in string.punctuation])  \n",
        "    sentence = ' '.join([i.lower() for i in sentence.split()])   #Normalization\n",
        "    sentence = ' '.join([i for i in sentence.split() if i not in Stopwords])  # Removing stopwords\n",
        "    sentence = ' '.join([wordnet_lemma.lemmatize(i) for i in sentence.split()])\n",
        "    new_ = [re.findall(\"^[a-z]*$\",i) for i in sentence.split() if re.findall(\"^[a-z]*$\",i) !=[] ] \n",
        "    sentence = ' '.join([x[0] for x in new_])\n",
        "\n",
        "    return [sentence]\n",
        "\n",
        "def predict_label(text) : \n",
        "    if (text == '') : \n",
        "        return 'None'\n",
        "    text = clean_sentence(text) \n",
        "    text = tokenizer.texts_to_sequences(text)\n",
        "    padded_text = pad_sequences(text,padding= 'post',maxlen = 20, truncating='post')\n",
        "    labels = { 0 : 'entertainment', 1 : 'politics', 2 : 'scienceandtech', 3 : 'sports'}\n",
        "    prediction = list(model.predict(padded_text)[0])\n",
        "    sorted_pred = sorted(prediction,reverse=True)\n",
        "    index = prediction.index(sorted_pred[0])\n",
        "    label = labels[index]\n",
        "    return label"
      ]
    },
    {
      "cell_type": "code",
      "execution_count": 18,
      "metadata": {
        "colab": {
          "base_uri": "https://localhost:8080/"
        },
        "id": "CKH13zN-Jd15",
        "outputId": "3589c10a-97f5-4b00-c159-8ef2810de599"
      },
      "outputs": [
        {
          "output_type": "stream",
          "name": "stdout",
          "text": [
            "1/1 [==============================] - 0s 65ms/step\n",
            "sports\n",
            "1/1 [==============================] - 0s 17ms/step\n",
            "politics\n",
            "1/1 [==============================] - 0s 13ms/step\n",
            "sports\n",
            "1/1 [==============================] - 0s 13ms/step\n",
            "scienceandtech\n",
            "1/1 [==============================] - 0s 12ms/step\n",
            "entertainment\n",
            "1/1 [==============================] - 0s 14ms/step\n",
            "politics\n",
            "1/1 [==============================] - 0s 15ms/step\n",
            "scienceandtech\n"
          ]
        }
      ],
      "source": [
        "print(predict_label(\"indian premier league\"))\n",
        "print(predict_label(\"bjp announces candidates\"))\n",
        "print(predict_label(\"Sachin smashes a century\"))\n",
        "print(predict_label(\"new vaccine discovered for covid 19\"))\n",
        "print(predict_label(\"kantara breaks all records\"))\n",
        "print(predict_label(\"modi rally in gujarat tomorrow\"))\n",
        "print(predict_label(\"apple announces new CEO\"))"
      ]
    },
    {
      "cell_type": "code",
      "execution_count": null,
      "metadata": {
        "id": "Ykh_GVDZWamE"
      },
      "outputs": [],
      "source": [
        "!pip install gradio"
      ]
    },
    {
      "cell_type": "code",
      "execution_count": 20,
      "metadata": {
        "colab": {
          "base_uri": "https://localhost:8080/",
          "height": 616
        },
        "id": "kEULltBiGjex",
        "outputId": "c9bc1d8b-1caf-475d-a7d8-9ba28b86b291"
      },
      "outputs": [
        {
          "output_type": "stream",
          "name": "stdout",
          "text": [
            "Colab notebook detected. To show errors in colab notebook, set `debug=True` in `launch()`\n",
            "Note: opening Chrome Inspector may crash demo inside Colab notebooks.\n",
            "\n",
            "To create a public link, set `share=True` in `launch()`.\n"
          ]
        },
        {
          "output_type": "display_data",
          "data": {
            "text/plain": [
              "<IPython.core.display.Javascript object>"
            ],
            "application/javascript": [
              "(async (port, path, width, height, cache, element) => {\n",
              "                        if (!google.colab.kernel.accessAllowed && !cache) {\n",
              "                            return;\n",
              "                        }\n",
              "                        element.appendChild(document.createTextNode(''));\n",
              "                        const url = await google.colab.kernel.proxyPort(port, {cache});\n",
              "\n",
              "                        const external_link = document.createElement('div');\n",
              "                        external_link.innerHTML = `\n",
              "                            <div style=\"font-family: monospace; margin-bottom: 0.5rem\">\n",
              "                                Running on <a href=${new URL(path, url).toString()} target=\"_blank\">\n",
              "                                    https://localhost:${port}${path}\n",
              "                                </a>\n",
              "                            </div>\n",
              "                        `;\n",
              "                        element.appendChild(external_link);\n",
              "\n",
              "                        const iframe = document.createElement('iframe');\n",
              "                        iframe.src = new URL(path, url).toString();\n",
              "                        iframe.height = height;\n",
              "                        iframe.allow = \"autoplay; camera; microphone; clipboard-read; clipboard-write;\"\n",
              "                        iframe.width = width;\n",
              "                        iframe.style.border = 0;\n",
              "                        element.appendChild(iframe);\n",
              "                    })(7860, \"/\", \"100%\", 500, false, window.element)"
            ]
          },
          "metadata": {}
        },
        {
          "output_type": "execute_result",
          "data": {
            "text/plain": []
          },
          "metadata": {},
          "execution_count": 20
        }
      ],
      "source": [
        "import gradio as gr\n",
        "\n",
        "def categorise(headline):\n",
        "    return predict_label(headline)\n",
        "\n",
        "demo = gr.Interface(fn=categorise, inputs=\"text\", outputs=\"text\")\n",
        "\n",
        "demo.launch()"
      ]
    }
  ],
  "metadata": {
    "accelerator": "GPU",
    "colab": {
      "provenance": []
    },
    "gpuClass": "standard",
    "kernelspec": {
      "display_name": "Python 3",
      "name": "python3"
    },
    "language_info": {
      "name": "python"
    }
  },
  "nbformat": 4,
  "nbformat_minor": 0
}